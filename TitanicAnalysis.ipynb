{
 "cells": [
  {
   "cell_type": "markdown",
   "metadata": {},
   "source": [
    "# Titanic data analysis and prediction"
   ]
  },
  {
   "cell_type": "markdown",
   "metadata": {},
   "source": [
    "## 1. Data Cleaning"
   ]
  },
  {
   "cell_type": "markdown",
   "metadata": {},
   "source": [
    "We import the packages we will use for the data analysis part"
   ]
  },
  {
   "cell_type": "code",
   "execution_count": null,
   "metadata": {},
   "outputs": [],
   "source": [
    "import numpy as np\n",
    "import pandas as pd\n",
    "import matplotlib.pyplot as plt\n",
    "plt.style.use('default')\n",
    "import seaborn as sns\n",
    "import warnings\n",
    "warnings.filterwarnings('ignore')"
   ]
  },
  {
   "cell_type": "markdown",
   "metadata": {},
   "source": [
    "Let's open the dataset, for the analysis part we will work only on the training data that contains values for the \"Survived\" variable. "
   ]
  },
  {
   "cell_type": "code",
   "execution_count": null,
   "metadata": {},
   "outputs": [],
   "source": [
    "df = pd.read_csv('C:/Users/sarac/Desktop/Projects/KagglePrivate/Titanic_Data/titanic/train.csv')\n",
    "df"
   ]
  },
  {
   "cell_type": "markdown",
   "metadata": {},
   "source": [
    "We can start by creating a missing data matrix to see what kind of data we are missing"
   ]
  },
  {
   "cell_type": "code",
   "execution_count": null,
   "metadata": {},
   "outputs": [],
   "source": [
    "def missing_matrix(dataframe):\n",
    "    missing = dataframe.isnull().sum().reset_index()\n",
    "    missing.columns = ([\"column\",\"count\"])\n",
    "    missing[\"ratio\"] = missing[\"count\"]/len(dataframe.index)\n",
    "    missing = missing.loc[missing[\"count\"] > 0].sort_values(by=[\"ratio\"], ascending = False)\n",
    "    return missing"
   ]
  },
  {
   "cell_type": "code",
   "execution_count": null,
   "metadata": {
    "scrolled": true
   },
   "outputs": [],
   "source": [
    "missing_matrix(df)"
   ]
  },
  {
   "cell_type": "markdown",
   "metadata": {},
   "source": [
    "We will start by cleaning the data, we will also create variables that I think can be useful for the analysis and the prediction later. Let's work on both the training and test data so we don't have to go through the process two times. For the analysis, we will work only on the part of the training data as it contains values for the \"Survived\" variable."
   ]
  },
  {
   "cell_type": "code",
   "execution_count": null,
   "metadata": {},
   "outputs": [],
   "source": [
    "dftest = pd.read_csv('C:/Users/sarac/Desktop/Projects/KagglePrivate/Titanic_Data/titanic/test.csv')\n",
    "dftest.insert(1, \"Survived\", np.nan)"
   ]
  },
  {
   "cell_type": "code",
   "execution_count": null,
   "metadata": {},
   "outputs": [],
   "source": [
    "dfcomb = pd.concat([df, dftest], ignore_index = True)\n",
    "dfcomb"
   ]
  },
  {
   "cell_type": "markdown",
   "metadata": {},
   "source": [
    "#### We can go through variables to see what we can use, drop, create for the prediction and analysis part. But our intuition may be wrong that's why we need the analysis part to confirm, reject or discover relations.\n",
    "\n",
    "**PassengerId:** doesn't bring any information as the Id is certainly randomly given or in order of registration. Actually the registration order may give some information such as socio-economic status or status if tickets were sold to people with higher status first. In our case we have other varaibles that gives the same information and we don't know if our assumption holds. So we will most likely not use the Id in our model\n",
    "\n",
    "**Survived:** It is the predicted variable.\n",
    "\n",
    "**Pclass:** Categorical feature that we will most likely use. Chances that it correlates with **Fare** is high but we will see that the later will most likely be transformed. Some passengers paid a higher fare than others while being in a lower class. That is because the fare is the price paid for one purchase, meaning that 5 people from the second class may in total pay more than 2 person in 1st class but that doesn't mean they are richer or that their ticket is worth more. That is why we will transform ths variable.\n",
    "\n",
    "**Name:** This variable is useless as it is but using titles in people names and create categories may be helpful. Titles are a sign of wealth and status and will probably correlate with Pclass and Fare (transformed).\n",
    "\n",
    "**Sex:** Obvious with the save woman and children first policy.\n",
    "\n",
    "**Age:** Same reason as above. Also we have a lot of missing values and some outliers. We could just drop those rows but they account for nearly 1/5 of our dataset. So we decide to use the encyclopedia where after some research people were able to find the age of some of those persons. We will certainly webscrape to retrieve the ages.\n",
    "\n",
    "**SibSp & Parch:** We can use these variables to create the variable family size. We can assume that trying to save a family may lead to lwoer chances of surviving. We could also use **Ticket** for groups that are not blood-related. We will see later which variable leads to better results.\n",
    "\n",
    "**Ticket:** Can also be used to create groups but also to split the **Fare** to the real value per person.\n",
    "\n",
    "**Fare:** The fare once split will show the price per passenger. So we will see what is paid by each passenger and the real value of their ticket. \n",
    "\n",
    "**Cabin:** The cabin location can be the reason someone lives or dies. After some research, we learned that the cabin number gives information about the deck. Most of the passengers in 2nd and 3rd class don't have a cabin number.\n",
    "\n",
    "**Embarked:** Should not have any effect"
   ]
  },
  {
   "cell_type": "code",
   "execution_count": null,
   "metadata": {},
   "outputs": [],
   "source": [
    "dfclean = dfcomb"
   ]
  },
  {
   "cell_type": "markdown",
   "metadata": {},
   "source": [
    "Let's start with the name variable and take the title from it. The name itself is not interesting but the title may give information about the importance of someone. There is no rule saying that we must save important people first but who knows ? maybe their prestige played a role in their survival or the variable is related to another factor that we are missing."
   ]
  },
  {
   "cell_type": "code",
   "execution_count": null,
   "metadata": {},
   "outputs": [],
   "source": [
    "if \"Title\" not in dfclean.columns:\n",
    "    dfclean.insert(3, \"Title\", dfclean[\"Name\"]) #add the new column"
   ]
  },
  {
   "cell_type": "code",
   "execution_count": null,
   "metadata": {},
   "outputs": [],
   "source": [
    "for i in dfclean:\n",
    "    dfclean[\"Title\"] = dfclean[\"Name\"].str.extract('([A-Za-z]+)\\.')\n",
    "    \n",
    "print(dfclean[\"Title\"].unique())  #We took every string combination that came before the dot"
   ]
  },
  {
   "cell_type": "code",
   "execution_count": null,
   "metadata": {},
   "outputs": [],
   "source": [
    "def replace_titles(dataframe):\n",
    "    title = dataframe[\"Title\"]\n",
    "    if title in ['Don', 'Major', 'Capt', 'Jonkheer', 'Rev', 'Col', 'Sir']:\n",
    "        return 'Mr'\n",
    "    elif title in ['Countess', 'Mme', 'Lady', 'Dona']:\n",
    "        return 'Mrs'\n",
    "    elif title in ['Mlle', 'Ms']:\n",
    "        return 'Miss'\n",
    "    elif title =='Dr':\n",
    "        if dataframe['Sex']=='Male':\n",
    "            return 'Mr'\n",
    "        else:\n",
    "            return 'Mrs'\n",
    "    else:\n",
    "        return title"
   ]
  },
  {
   "cell_type": "code",
   "execution_count": null,
   "metadata": {},
   "outputs": [],
   "source": [
    "dfclean[\"Title\"]=dfclean.apply(replace_titles, axis=1)\n",
    "dfclean[[\"Name\",\"Title\"]]"
   ]
  },
  {
   "cell_type": "code",
   "execution_count": null,
   "metadata": {},
   "outputs": [],
   "source": [
    "dfclean[['Title', 'Survived']].groupby(['Title'], as_index=False).mean()\n",
    "\n",
    "                \n",
    "dfclean['Title'] = dfclean['Title'].map( {\"Mr\": 1, \"Master\": 2, \"Mrs\": 4, \"Miss\": 3} ).astype(int)"
   ]
  },
  {
   "cell_type": "markdown",
   "metadata": {},
   "source": [
    "Next on the line is the Age variable where we have a lot of missing data.\n",
    "One way to solve this would be to replace missing values by the mean or median but missing values account for 20% of our data, the range goes from 0,17 to 80 but the distribution is pretty spread out. Another option would be to use the mean for people for each title because it separates people by age\n",
    "\n",
    "In our case we will use webscraping to get values we are missing from https://en.wikipedia.org/wiki/Passengers_of_the_Titanic .\n",
    "We could use www.encyclopedia-titanica.org but the way the information is displayed in wikipedia makes it easier to webscrap. Our only downside is that we do not have the ticket number information to confirm the identity of a passenger but knowing how famous our dataset is, it is unlikely that there are wrong data in the wiki."
   ]
  },
  {
   "cell_type": "markdown",
   "metadata": {},
   "source": [
    "Let's import what we need for the webscraping"
   ]
  },
  {
   "cell_type": "code",
   "execution_count": null,
   "metadata": {},
   "outputs": [],
   "source": [
    "import requests\n",
    "from bs4 import BeautifulSoup\n",
    "from pprint import pprint"
   ]
  },
  {
   "cell_type": "code",
   "execution_count": null,
   "metadata": {},
   "outputs": [],
   "source": [
    "titanic_page = requests.get(\"https://en.wikipedia.org/wiki/Passengers_of_the_Titanic\")\n",
    "titanic_tree = BeautifulSoup(titanic_page.content, \"html.parser\")\n",
    "column_names = [\"NameWeb\", \"AgeWeb\"]\n",
    "NameW = []\n",
    "\n",
    "for info in titanic_tree.find_all(\"tr\"):    \n",
    "    col = 0\n",
    "    for td in info.find_all('td'):\n",
    "        td_text = td.get_text().strip()\n",
    "        if col == 0:\n",
    "            Name = td_text\n",
    "            NameW.append(Name)\n",
    "        col += 1\n",
    "\n",
    "last = NameW.index(\"Zimmermann, Mr. Leo\") #the last element we need is number 1310\n",
    "#pprint(NameW)\n",
    "Name = NameW[:last + 1]\n",
    "\n",
    "#We managed to retrieve all the names but also some info we do not need that's why we stop the list at \"Mr Zimmerman\""
   ]
  },
  {
   "cell_type": "code",
   "execution_count": null,
   "metadata": {},
   "outputs": [],
   "source": [
    "AgeW = []\n",
    "\n",
    "for info in titanic_tree.find_all(\"tr\"):\n",
    "    col = 0\n",
    "    for td in info.find_all('td'):\n",
    "        td_text = td.get_text().strip()\n",
    "        if col == 1:\n",
    "            Age = td_text\n",
    "            AgeW.append(Age)\n",
    "        col += 1\n",
    "        \n",
    "\n",
    "Age = AgeW[:last + 1]\n",
    "\n",
    "def num_there(s):\n",
    "    return any(i.isdigit() for i in s)\n",
    "\n",
    "def list_cleaner(list):\n",
    "    for x in list:\n",
    "        ind = list.index(x)\n",
    "        if x == \"–\":\n",
    "            list[ind] = round(dfclean[\"Age\"].mean(),0)\n",
    "        elif \"mo.\" in x:\n",
    "            months = ''.join(filter(str.isdigit, x))\n",
    "            list[ind] = round(int(months)/12,2)\n",
    "        elif num_there(x) == False:\n",
    "            list[ind] = list[ind - 1]\n",
    "    return list\n",
    "\n",
    "list_cleaner(Age)\n",
    "\n",
    "Age.insert(19, \"24\")  #some more random cleaning because teh html layout of the wiki is not perfect\n",
    "del Age[-1]\n",
    "Age.insert(293, \"48\")\n",
    "del Age[-1]\n",
    "Age.insert(442, \"24\")\n",
    "del Age[-1]\n",
    "\n",
    "#pprint(Age)\n",
    "\n",
    "#print(len(Age)) #  =1311 \n",
    "\n",
    "for n in Name:\n",
    "    indMiss = Name.index(n)\n",
    "    if \"Miss\" in n:\n",
    "        a = n.replace(\"Miss\", \"Miss.\")\n",
    "        a = a.replace(\"Miss..\", \"Miss.\")\n",
    "        Name[indMiss] = a\n",
    "\n",
    "w = {'Name':Name,'Age':Age}\n",
    "Webdf = pd.DataFrame(w)\n",
    "\n",
    "Webdf\n",
    "miss = missing_matrix(dfclean)\n",
    "miss"
   ]
  },
  {
   "cell_type": "markdown",
   "metadata": {},
   "source": [
    "Let's fill our dataframe with the data we found on the web\n",
    "fortunately the names in the wiki page seems to follow the same template"
   ]
  },
  {
   "cell_type": "code",
   "execution_count": null,
   "metadata": {},
   "outputs": [],
   "source": [
    "indiceslist = []\n",
    "indexMiss = 0\n",
    "count = 0\n",
    "for i in dfclean[\"Age\"]:\n",
    "    if np.isnan(i):\n",
    "        if any(dfclean.at[indexMiss, \"Name\"] in string for string in Webdf[\"Name\"]):\n",
    "            indice = [i for i, s in enumerate(Webdf[\"Name\"]) if dfclean.at[indexMiss, \"Name\"] in s]\n",
    "            #print(indice[0])         #if there are more than 1 this could be a bad idea but in our case the only\n",
    "            indiceslist.append(indice)     #moment it happens, we take the first one so its ok\n",
    "            \n",
    "            #print(dfclean.at[indexMiss, \"Name\"])\n",
    "            dfclean.at[indexMiss, \"Age\"] = Webdf.at[indice[0], \"Age\"]\n",
    "            count += 1\n",
    "\n",
    "    indexMiss += 1 "
   ]
  },
  {
   "cell_type": "code",
   "execution_count": null,
   "metadata": {},
   "outputs": [],
   "source": [
    "def checkIfDuplicates(listOfElems):\n",
    "    ''' Check if given list contains any duplicates '''    \n",
    "    for elem in listOfElems:\n",
    "        if listOfElems.count(elem) > 1:\n",
    "            return True\n",
    "    return False"
   ]
  },
  {
   "cell_type": "code",
   "execution_count": null,
   "metadata": {},
   "outputs": [],
   "source": [
    "checkIfDuplicates(indiceslist)\n",
    "\n",
    "from nltk import flatten\n",
    "indices = flatten(indiceslist) #because we actually have a list of list"
   ]
  },
  {
   "cell_type": "markdown",
   "metadata": {},
   "source": [
    "We are able to retrieve the age of 148 person out of 263, we could do more by changing the way the name is written in our dataframe but it is good enough, we will use the mean by title to fill the rest\n",
    "\n",
    "In restrospect, using the encyclopedia would have been better as we could match the ticket number and avoid having to match the name. Maybe next time I will try this method"
   ]
  },
  {
   "cell_type": "code",
   "execution_count": null,
   "metadata": {},
   "outputs": [],
   "source": [
    "missing_matrix(dfclean)"
   ]
  },
  {
   "cell_type": "markdown",
   "metadata": {},
   "source": [
    "We reduced our missing Ages to 8,7% with real values wich is not bad i guess. Let's fill the rest with the mean per title method"
   ]
  },
  {
   "cell_type": "code",
   "execution_count": null,
   "metadata": {
    "scrolled": false
   },
   "outputs": [],
   "source": [
    "#{\"Mr\": 1, \"Master\": 2, \"Mrs\": 4, \"Miss\": 3}\n",
    "\n",
    "dfclean.loc[(dfclean.Age.isnull())&(dfclean.Title==1),\"Age\"] = round(dfclean.Age[dfclean.Title==1].mean(),0)\n",
    "dfclean.loc[(dfclean.Age.isnull())&(dfclean.Title==4),\"Age\"] = round(dfclean.Age[dfclean.Title==4].mean(),0)\n",
    "dfclean.loc[(dfclean.Age.isnull())&(dfclean.Title==3),\"Age\"] = round(dfclean.Age[dfclean.Title==3].mean(),0)\n",
    "dfclean.loc[(dfclean.Age.isnull())&(dfclean.Title==2),\"Age\"] = round(dfclean.Age[dfclean.Title==2].mean(),0)\n",
    "\n",
    "missing_matrix(dfclean)"
   ]
  },
  {
   "cell_type": "code",
   "execution_count": null,
   "metadata": {},
   "outputs": [],
   "source": [
    "dfclean.insert(7, \"AgeRange\", dfclean['Age'], allow_duplicates=True)"
   ]
  },
  {
   "cell_type": "code",
   "execution_count": null,
   "metadata": {},
   "outputs": [],
   "source": [
    "dfclean.loc[ dfclean['AgeRange'] <= 20, 'AgeRange'] = 0\n",
    "dfclean.loc[(dfclean['AgeRange'] > 20) & (dfclean['AgeRange'] <= 40), 'AgeRange'] = 1\n",
    "dfclean.loc[(dfclean['AgeRange'] > 40) & (dfclean['AgeRange'] <= 60), 'AgeRange'] = 2\n",
    "dfclean.loc[(dfclean['AgeRange'] > 60) & (dfclean['AgeRange'] <= 80), 'AgeRange'] = 3\n",
    "dfclean.loc[ dfclean['AgeRange'] > 80, 'AgeRange'] "
   ]
  },
  {
   "cell_type": "markdown",
   "metadata": {},
   "source": [
    "Now let's take care of our SibSp & Parch variables, we can use those variables to create the \"family-size\" variable. As we said earlier having a family on board may lead to people risking their live to save them and more chances to die or the opposite as they may get help\n",
    "\n",
    "We will also try another version with the ticket variable as people may be in the same group without being blood-related and the will to save the other may be the same"
   ]
  },
  {
   "cell_type": "code",
   "execution_count": null,
   "metadata": {},
   "outputs": [],
   "source": [
    "#Let's create our \"Family\" variable\n",
    "\n",
    "if \"Family\" not in dfclean.columns:\n",
    "    dfclean[\"Family\"] = dfclean[\"SibSp\"] + dfclean[\"Parch\"]\n",
    "    #dfclean = dfclean.drop([\"Parch\"], axis=\"columns\")\n",
    "    #dfclean = dfclean.drop([\"SibSp\"], axis=\"columns\")\n",
    "    \n",
    "#And our \"Group\" variable\n",
    "\n",
    "difftickets = dfclean['Ticket'].value_counts(dropna=False)\n",
    "\n",
    "if \"Group\" not in dfclean.columns:\n",
    "    dfclean.insert(11, \"Group\", 1)\n",
    "  \n",
    "for t in difftickets.index:\n",
    "    dfclean.loc[(dfclean.Ticket==t),\"Group\"] = difftickets[t] - 1  #we want to count \"friends\" only not the person itself\n",
    "\n",
    "pd.set_option(\"display.max_rows\", 10)\n",
    "#dfclean.sort_values(by=['Group', 'Ticket'], ascending=False)"
   ]
  },
  {
   "cell_type": "code",
   "execution_count": null,
   "metadata": {},
   "outputs": [],
   "source": [
    "if 'Alone' not in dfclean.columns:\n",
    "    dfclean.insert(13, \"Alone\", 0, allow_duplicates=True)\n",
    "    dfclean.loc[dfclean['Group'] == 0, 'Alone'] = 1"
   ]
  },
  {
   "cell_type": "code",
   "execution_count": null,
   "metadata": {},
   "outputs": [],
   "source": [
    "dfclean['Embarked'] = dfclean['Embarked'].fillna('S')\n",
    "dfclean['Embarked'] = dfclean['Embarked'].map( {'S': 0, 'C': 1, 'Q': 2} ).astype(int)"
   ]
  },
  {
   "cell_type": "markdown",
   "metadata": {},
   "source": [
    "We will create the \"FareCap\" column in order to have the real value of a ticket but apparently the fare variable is much more complicated as the prices vary depending on where the ticket is bought, there were discounts for childrens but we do not know the value of the discount. Some passengers have a fare = 0 but it seems that those are not mistakes but people who got free tickets. The mean of the Pclass variable can be used to estimate the amount of their Fare because if we keep a Fare of 0, the model may underestimate the \"value\" of those people. \n"
   ]
  },
  {
   "cell_type": "code",
   "execution_count": null,
   "metadata": {},
   "outputs": [],
   "source": [
    "dffare0 = dfclean[dfclean[\"Fare\"] == 0]\n",
    "\n",
    "indexlist = dffare0.index\n",
    "\n",
    "dfclean.loc[(dfclean.Fare == 0 ) & (dfclean.Pclass==1),\"Fare\"] = round(dfclean.Fare[dfclean.Pclass==1].mean(),0)\n",
    "dfclean.loc[(dfclean.Fare == 0 ) & (dfclean.Pclass==2),\"Fare\"] = round(dfclean.Fare[dfclean.Pclass==2].mean(),0)\n",
    "dfclean.loc[(dfclean.Fare == 0 ) & (dfclean.Pclass==3),\"Fare\"] = round(dfclean.Fare[dfclean.Pclass==3].mean(),0)\n",
    "\n",
    "ind = dfclean[dfclean['Fare'].isna()].index\n",
    "ind\n",
    "dfclean.at[ind[0],'Fare'] = round(dfclean.Fare[dfclean.Pclass==3].mean(),0)"
   ]
  },
  {
   "cell_type": "markdown",
   "metadata": {},
   "source": [
    "Let's work on our \"Cabin\" variable, we will separate it in decks to translate the effect of being below or on top in the Titanic"
   ]
  },
  {
   "cell_type": "code",
   "execution_count": null,
   "metadata": {},
   "outputs": [],
   "source": [
    "import re\n",
    "\n",
    "deck = {\"A\": 1, \"B\": 2, \"C\": 3, \"D\": 4, \"E\": 5, \"F\": 6, \"G\": 7, \"U\": 8}\n",
    "\n",
    "if \"Cabin\" in dfclean.columns:\n",
    "    dfclean[\"Cabin\"] = dfclean[\"Cabin\"].fillna(\"U0\")\n",
    "    dfclean[\"Deck\"] = dfclean['Cabin'].map(lambda x: re.compile(\"([a-zA-Z]+)\").search(x).group())\n",
    "    dfclean[\"Deck\"] = dfclean['Deck'].map(deck)\n",
    "    dfclean['Deck'] = dfclean['Deck'].fillna(0)\n",
    "    dfclean['Deck'] = dfclean['Deck'].astype(int)\n",
    " \n",
    "if \"Cabin\" in dfclean.columns:\n",
    "    dfclean = dfclean.drop(\"Cabin\", axis = 1)"
   ]
  },
  {
   "cell_type": "markdown",
   "metadata": {},
   "source": [
    "Fare per capita will be a variable where we split the Fare by the number of similar ticket, so we get the real price of the ticket"
   ]
  },
  {
   "cell_type": "code",
   "execution_count": null,
   "metadata": {},
   "outputs": [],
   "source": [
    "dfclean[\"FarePerCap\"] = round(dfclean[\"Fare\"]/(dfclean[\"Group\"] + 1),2)"
   ]
  },
  {
   "cell_type": "code",
   "execution_count": null,
   "metadata": {},
   "outputs": [],
   "source": [
    "if 1 in dfclean[\"Sex\"]:\n",
    "    dfclean['Sex'] = dfclean['Sex'].replace([1, 0], ['female', 'male'])"
   ]
  },
  {
   "cell_type": "markdown",
   "metadata": {},
   "source": [
    "We can now split our data and analyse the one where we have our \"Survived\" variable, after or during the analysis we may need to create new variables so these datasets are not the final ones"
   ]
  },
  {
   "cell_type": "code",
   "execution_count": null,
   "metadata": {},
   "outputs": [],
   "source": [
    "dfcleanTrain = dfclean.iloc[:891, :]\n",
    "dfcleanTest = dfclean.iloc[891:, :]"
   ]
  },
  {
   "cell_type": "markdown",
   "metadata": {},
   "source": [
    "## 2. Data Analysis"
   ]
  },
  {
   "cell_type": "markdown",
   "metadata": {},
   "source": [
    "### Gender"
   ]
  },
  {
   "cell_type": "code",
   "execution_count": null,
   "metadata": {
    "scrolled": true
   },
   "outputs": [],
   "source": [
    "dfgender = dfcleanTrain.groupby('Sex').aggregate(Count = (\"Survived\", 'count'),\n",
    "                                      Survivors = (\"Survived\", 'sum'),\n",
    "                                      Mean_age = ('Age', 'mean'),\n",
    "                                      Mean_fare = ('FarePerCap', 'mean')).round(2)\n",
    "\n",
    "dfgender.insert(2, 'Surv %', (dfgender.Survivors/dfgender.Count * 100).round(2))\n",
    "\n",
    "dfgender"
   ]
  },
  {
   "cell_type": "markdown",
   "metadata": {},
   "source": [
    "We can clearly see the difference in survival rates between women and men"
   ]
  },
  {
   "cell_type": "code",
   "execution_count": null,
   "metadata": {},
   "outputs": [],
   "source": [
    "from statsmodels.stats.weightstats import ztest"
   ]
  },
  {
   "cell_type": "code",
   "execution_count": null,
   "metadata": {},
   "outputs": [],
   "source": [
    "test = ztest(x1 = dfcleanTrain[dfcleanTrain['Sex'] == \"female\"]['Survived'] ,\n",
    "    x2 = dfcleanTrain[dfcleanTrain['Sex'] == \"male\"]['Survived'],\n",
    "             alternative = 'two-sided')  #our n = 891 > 30\n",
    "zstat = test[0].round(2)\n",
    "pvalue = test[1] #we reject H0"
   ]
  },
  {
   "cell_type": "code",
   "execution_count": null,
   "metadata": {},
   "outputs": [],
   "source": [
    "dfclass = dfcleanTrain.groupby(['Sex','Pclass'], as_index = False).aggregate(Count = (\"Survived\", 'count'),\n",
    "                                      Survivors = (\"Survived\", 'sum'),\n",
    "                                      Mean_age = ('Age', 'mean'),\n",
    "                                      Mean_fare = ('FarePerCap', 'mean')).round(2)\n",
    "\n",
    "dfclass.insert(2, '% Surv', (dfclass.Survivors/dfclass.Count * 100).round(2))\n",
    "\n",
    "dfclass"
   ]
  },
  {
   "cell_type": "code",
   "execution_count": null,
   "metadata": {
    "scrolled": false
   },
   "outputs": [],
   "source": [
    "import matplotlib.patches as mpatches\n",
    "\n",
    "yMS = dfclass.loc[(dfclass.Sex == 'male'), \"Survivors\"]\n",
    "yFS = dfclass.loc[(dfclass.Sex == 'female'), \"Survivors\"]\n",
    "yMT = dfclass.loc[(dfclass.Sex == 'male'), \"Count\"]\n",
    "yFT = dfclass.loc[(dfclass.Sex == 'female'), \"Count\"]\n",
    "yPerc = dfclass.sort_values(['Pclass', 'Sex'], ascending = [True, False])\n",
    "yPerc = yPerc['% Surv']\n",
    "\n",
    "yMSFS = dfclass.sort_values(['Pclass', 'Sex'], ascending = [True, False])\n",
    "yMSFS = yMSFS['Survivors'].reset_index(drop=True)\n",
    "\n",
    "X = np.arange(3)\n",
    "fig = plt.figure(figsize=(7,5), dpi = 80)\n",
    "ax = fig.add_axes([0,0,1,1])\n",
    "ax.bar(X + 0.0, yMT, color = '#55AA5F', width = 0.2)\n",
    "ax.bar(X + 0.2, yMS, color = '#A8D4AD', width = 0.2)\n",
    "ax.bar(X + 0.45, yFT, color = '#AA55A0', width = 0.2)\n",
    "ax.bar(X + 0.65, yFS, color = '#d7b0d3', width = 0.2)\n",
    "\n",
    "xline = np.arange(0, 3, 3/6)\n",
    "#plt.plot(xline, yPerc*3, color='#CCCCCC')\n",
    "\n",
    "men = mpatches.Patch(color='#55AA5F', label='Men Total')\n",
    "women = mpatches.Patch(color='#AA55A0', label='Women Total')\n",
    "menS = mpatches.Patch(color='#A8D4AD', label='Men Survived')\n",
    "womenS = mpatches.Patch(color='#d7b0d3', label='Women Survived')\n",
    "\n",
    "\n",
    "a = 0\n",
    "for i, v in enumerate(yPerc):\n",
    "    if i == 1 or i == 3:\n",
    "        ax.text(0.12 + a, yMSFS[i] + 5, str(v) + '%' , color='#4F4F4F', fontsize = 10)\n",
    "        a += 0.55\n",
    "    else:\n",
    "        ax.text(0.12 + a, yMSFS[i] + 5, str(v) + '%', color='#4F4F4F', fontsize = 10)\n",
    "        a += 0.455\n",
    "        \n",
    "\n",
    "\n",
    "plt.legend(handles=[men, women,menS, womenS], loc = 'upper left', fontsize = 11)\n",
    "\n",
    "plt.grid(b=True, which='both', axis='y', color='lightgrey', linestyle='--', linewidth=0.5)\n",
    "plt.title('Survival rate per gender and class\\n', fontsize = 17)\n",
    "plt.xticks(X + 0.325 , ['\\n1st Class', '\\n2nd Class', '\\n3rd Class'], fontsize = 12)\n",
    "plt.yticks(fontsize=12, rotation=0)\n",
    "plt.tick_params(bottom = False)\n",
    "\n",
    "\n",
    "plt.show()"
   ]
  },
  {
   "cell_type": "markdown",
   "metadata": {},
   "source": [
    "Women in 1st class have the highest survival rate while men in 3rd class have the lowest. Well being a women making you more likely to survive was kinda obvious but having more chances to survive because you have more money is less logical. The effect may be indirect and through another variable like the deck variable. We don't really need to know the exact reason to predict later but we can look at a correlation matrix to see how variables interact with each other."
   ]
  },
  {
   "cell_type": "code",
   "execution_count": null,
   "metadata": {},
   "outputs": [],
   "source": [
    "dfcleanTrain['Sex'] =  dfcleanTrain['Sex'].map( {'female': 1, 'male': 0} ).astype(int).copy()\n",
    "#works but gives an annoying warning\n",
    "\n",
    "corr = dfcleanTrain.corr()\n",
    "    \n",
    "corr.round(2)"
   ]
  },
  {
   "cell_type": "code",
   "execution_count": null,
   "metadata": {
    "scrolled": true
   },
   "outputs": [],
   "source": [
    "dfcleanTrain['Age'].describe()"
   ]
  },
  {
   "cell_type": "code",
   "execution_count": null,
   "metadata": {},
   "outputs": [],
   "source": [
    "labels = ['0-20', '21-40', '41-60', '61-80']\n",
    "\n",
    "if 'AgeRange' not in dfcleanTrain.columns:\n",
    "    dfcleanTrain.insert(7, 'AgeRange', pd.cut(dfcleanTrain['Age'], bins=[0, 20, 40, 60, 80], labels = labels))\n",
    "    \n",
    "\n",
    "#dfcleanTrain"
   ]
  },
  {
   "cell_type": "code",
   "execution_count": null,
   "metadata": {
    "scrolled": true
   },
   "outputs": [],
   "source": [
    "dfage = dfcleanTrain.groupby(['AgeRange'], as_index = False).aggregate(Count = (\"Survived\", 'count'), \n",
    "                                                  Survivors = (\"Survived\", 'sum'),\n",
    "                                                  Women = ('Sex', 'sum'),\n",
    "                                                  Mean_fare = ('FarePerCap', 'mean')).round(2)\n",
    "\n",
    "dfage['AgeRange'].replace([0,1,2,3],['0-20', '21-40', '41-60', '61-80'],inplace=True)\n",
    "\n",
    "dfage.insert(3, '% Surv', (dfage.Survivors/dfage.Count * 100).round(2))\n",
    "\n",
    "dfage.insert(4, '% Women', (dfage.Women/dfage.Count * 100).round(2))\n",
    "dfage = dfage.drop(\"Women\", axis = 'columns')\n",
    "\n",
    "\n",
    "display(dfage)"
   ]
  },
  {
   "cell_type": "markdown",
   "metadata": {},
   "source": [
    "Looking at this dataframe it may seem that the survival rate goes down as people get older but we will separate into male and female and other variables to see if it is always the case "
   ]
  },
  {
   "cell_type": "code",
   "execution_count": null,
   "metadata": {},
   "outputs": [],
   "source": [
    "dfagegender = dfcleanTrain.groupby(['AgeRange', 'Sex'], as_index = False).aggregate(Count = (\"Survived\", 'count'),\n",
    "                                                  Survivors = (\"Survived\", 'sum'),\n",
    "                                                  Mean_fare = ('FarePerCap', 'mean')).round(2)\n",
    "\n",
    "\n",
    "dfagegender['Sex'].replace([0,1],['male','female'],inplace=True)\n",
    "dfagegender['AgeRange'].replace([0,1,2,3],['0-20', '21-40', '41-60', '61-80'],inplace=True)\n",
    "\n",
    "\n",
    "\n",
    "dfagegender.insert(4, '% Surv', (dfagegender.Survivors/dfagegender.Count * 100).round(2))\n",
    "\n",
    "display(dfagegender.sort_values(['Sex'], ascending = [False]))"
   ]
  },
  {
   "cell_type": "code",
   "execution_count": null,
   "metadata": {
    "scrolled": false
   },
   "outputs": [],
   "source": [
    "import matplotlib.patches as mpatches\n",
    "\n",
    "#creating our X and Y variables\n",
    "y2MS = dfagegender.loc[(dfagegender.Sex == 'male'), \"Survivors\"]\n",
    "y2FS = dfagegender.loc[(dfagegender.Sex == 'female'), \"Survivors\"]\n",
    "y2MT = dfagegender.loc[(dfagegender.Sex == 'male'), \"Count\"]\n",
    "y2FT = dfagegender.loc[(dfagegender.Sex == 'female'), \"Count\"]\n",
    "y2Perc = dfagegender.sort_values(['Sex', 'AgeRange'], ascending = [False, True])\n",
    "y2MPerc = y2Perc.loc[(y2Perc.Sex == 'male'), \"% Surv\"]\n",
    "y2FPerc = y2Perc.loc[(y2Perc.Sex == 'female'), \"% Surv\"]\n",
    "\n",
    "y2MSFS = dfagegender.sort_values(['Sex', 'AgeRange'], ascending = [False, True])\n",
    "y2MSFS = y2MSFS['Survivors'].reset_index(drop=True)\n",
    "\n",
    "fig2, (ax1, ax2) = plt.subplots(1,2, figsize=(15,7), dpi = 80)\n",
    "\n",
    "X2 = np.arange(4)\n",
    "Y2 = np.arange(5)\n",
    "\n",
    "plt.sca(ax1)\n",
    "\n",
    "#creating the bars + spaces between\n",
    "ax1.bar(X2 + 0.0, y2MT, color = '#55AA5F', width = 0.2)\n",
    "ax1.bar(X2 + 0.2, y2MS, color = '#A8D4AD', width = 0.2)\n",
    "ax1.bar(X2 + 0.45, y2FT, color = '#AA55A0', width = 0.2)\n",
    "ax1.bar(X2 + 0.65, y2FS, color = '#d7b0d3', width = 0.2)\n",
    "\n",
    "#legend\n",
    "ax1.legend(handles=[men, women,menS, womenS], loc = 'upper right', fontsize = 12)\n",
    "men = mpatches.Patch(color='#55AA5F', label='Men Total')\n",
    "women = mpatches.Patch(color='#AA55A0', label='Women Total')\n",
    "menS = mpatches.Patch(color='#A8D4AD', label='Men Survived')\n",
    "womenS = mpatches.Patch(color='#d7b0d3', label='Women Survived')\n",
    "\n",
    "#other parameters\n",
    "plt.grid(b=True, which='both', axis='y', color='lightgrey', linestyle='--', linewidth=0.5)\n",
    "plt.title('Survivors and total per age group and gender\\n', fontsize = 17)\n",
    "\n",
    "plt.xticks(X2 + 0.325, labels, fontsize = 13)\n",
    "plt.xlabel('\\nAge Groups',  fontsize = 15)\n",
    "plt.ylabel('',  fontsize = 15)\n",
    "plt.yticks(fontsize=13, rotation=0)\n",
    "ax1.tick_params(bottom = False)\n",
    "\n",
    "#Second plot\n",
    "\n",
    "plt.sca(ax2)\n",
    "xline = np.arange(0, 4, 1)\n",
    "ax2.plot(xline, y2MPerc, color='#55AA5F', linewidth = 4,  marker='o')\n",
    "ax2.plot(xline, y2FPerc, color='#AA55A0', linewidth = 4, marker='o')\n",
    "plt.title('Survival rate (%) per age group and gender\\n', fontsize = 17)\n",
    "\n",
    "plt.xticks(X2, labels, fontsize = 13)\n",
    "plt.yticks(np.arange(0,110, 10), fontsize=13, rotation=0)\n",
    "ax1.tick_params(bottom = False)\n",
    "\n",
    "ax2.legend(labels = ['Men','Women'], loc = 'upper left', fontsize = 12)\n",
    "plt.grid(b=True, which='both', axis='both', color='lightgrey', linestyle='--', linewidth=0.5)\n",
    "\n",
    "plt.tight_layout()\n",
    "plt.show()"
   ]
  },
  {
   "cell_type": "markdown",
   "metadata": {},
   "source": [
    "Here we see that our previous insight was not completely true, the survival rate goes down only for men but because they account for roughly 65% of the dataset. If we look at the graph on the right we see that for women, being older correlates with higher chances of survival. But does it make sense ? Why would an old woman have more chances to survive ? Younger women are more likely to be in shape and physically stronger.\n",
    "\n",
    "But we also saw that survival rate is linked to pclass, let's see if there is a relation between age and pclass, I would guess that older women are generally in higher classes and that gives them more chances to survive (maybe being in 1st class gives you the best location, we will check that with our deck variable)."
   ]
  },
  {
   "cell_type": "code",
   "execution_count": null,
   "metadata": {},
   "outputs": [],
   "source": [
    "dfcleanTrain2 = dfcleanTrain\n",
    "#dfcleanTrain2['Sex'].replace(['male','female'],[0,1], inplace=True)"
   ]
  },
  {
   "cell_type": "code",
   "execution_count": null,
   "metadata": {},
   "outputs": [],
   "source": [
    "if 'Pclass_1' not in dfcleanTrain2.columns:\n",
    "    classes = pd.get_dummies(dfcleanTrain2.Pclass, prefix='Pclass')\n",
    "    dfcleanTrain2 = pd.concat([dfcleanTrain2, classes], axis=1)\n",
    "    dfcleanTrain2.drop(columns=['Pclass'])\n",
    "    \n",
    "corr2 = dfcleanTrain2.corr()\n",
    "\n",
    "corr2.round(2)"
   ]
  },
  {
   "cell_type": "code",
   "execution_count": null,
   "metadata": {
    "scrolled": false
   },
   "outputs": [],
   "source": [
    "dfageclass = dfcleanTrain2.groupby(['Sex','AgeRange'], as_index = False).aggregate(Total = (\"Pclass_1\", 'count'),\n",
    "                                                Class1 = (\"Pclass_1\", 'sum'),\n",
    "                                                Class2 = (\"Pclass_2\", 'sum'),\n",
    "                                                Class3 = (\"Pclass_3\", 'sum'))\n",
    "\n",
    "if 1 in dfageclass[\"Sex\"]:\n",
    "    dfageclass['Sex'] = dfageclass['Sex'].replace([1, 0], ['female', 'male'])\n",
    "\n",
    "a=0\n",
    "for i in range(1,4):\n",
    "    dfageclass.insert(6 + a, '% Class' + str(i), (dfageclass['Class' + str(i)]/dfageclass.Total * 100).round(2))\n",
    "    a += 1\n",
    "    \n",
    "dfageclass2 = dfcleanTrain.groupby(['Sex','Pclass'], as_index = False).aggregate(Count = (\"Age\", 'count'),\n",
    "                                                MaxAge = (\"Age\", 'max'),\n",
    "                                                MinAge = (\"Age\", 'min'),\n",
    "                                                AvgAge = (\"Age\", 'mean')).round(1)   \n",
    "    \n",
    "display(dfageclass)\n",
    "display(dfageclass2)\n",
    "\n",
    "##boxplot and lines"
   ]
  },
  {
   "cell_type": "code",
   "execution_count": null,
   "metadata": {
    "scrolled": true
   },
   "outputs": [],
   "source": [
    "dfcleanTrain.loc[dfcleanTrain[\"Sex\"] == 0,\"Sex\"] = 'male'\n",
    "dfcleanTrain.loc[dfcleanTrain[\"Sex\"] == 1,\"Sex\"] = 'female'"
   ]
  },
  {
   "cell_type": "code",
   "execution_count": null,
   "metadata": {},
   "outputs": [],
   "source": [
    "from matplotlib.lines import Line2D\n",
    "\n",
    "M1 = dfageclass.loc[(dfageclass.Sex == 'male'), \"% Class1\"]\n",
    "F1 = dfageclass.loc[(dfageclass.Sex == 'female'), \"% Class1\"]\n",
    "M2 = dfageclass.loc[(dfageclass.Sex == 'male'), \"% Class2\"]\n",
    "F2 = dfageclass.loc[(dfageclass.Sex == 'female'), \"% Class2\"]\n",
    "M3 = dfageclass.loc[(dfageclass.Sex == 'male'), \"% Class3\"]\n",
    "F3 = dfageclass.loc[(dfageclass.Sex == 'female'), \"% Class3\"]\n",
    "\n",
    "fig3, (ax3, ax4) = plt.subplots(1,2, figsize=(15,7), dpi = 80)\n",
    "\n",
    "databox= []\n",
    "for i in ['female', 'male']:\n",
    "    for j in [1,2,3]:\n",
    "        f = dfcleanTrain.loc[(dfcleanTrain.Sex == str(i)) &(dfcleanTrain.Pclass == j),\"Age\"]\n",
    "        databox.append(f)\n",
    "        \n",
    "#first plot\n",
    "plt.sca(ax3)\n",
    "plt.title('Boxplot for men and women in each class\\n', fontsize = 15)\n",
    "labelsbox=[' ','1st', '2nd', '3rd','1st', '2nd', '3rd']\n",
    "\n",
    "flierprops = dict(marker='o', markerfacecolor='lightgrey', markersize=8,\n",
    "                  linestyle=':', markeredgecolor='w')\n",
    "\n",
    "medianprops = dict(linewidth=2, color='black')\n",
    "\n",
    "box = ax3.boxplot(databox, widths=0.4, medianprops=medianprops, showfliers=False, patch_artist=True)\n",
    "\n",
    "men = mpatches.Patch(color='#55AA5F', label='Men')\n",
    "women = mpatches.Patch(color='#AA55A0', label='Women')\n",
    "\n",
    "ax3.legend(handles = [men, women], loc = 'upper right', fontsize = 12)\n",
    "plt.grid(b=True, which='both', axis='both', color='lightgrey', linestyle='--', linewidth=0.5)\n",
    "plt.xlabel('\\nClasses',  fontsize = 13)\n",
    "plt.ylabel('\\nAge',  fontsize = 13)\n",
    "\n",
    "plt.xticks(np.arange(7), labelsbox, fontsize = 12)\n",
    "plt.yticks(fontsize = 12)\n",
    "\n",
    "colors = ['#AA55A0','#AA55A0','#AA55A0', '#55AA5F','#55AA5F','#55AA5F']\n",
    "for patch, color in zip(box['boxes'], colors):\n",
    "        patch.set_facecolor(color)\n",
    "\n",
    "\n",
    "#second plot\n",
    "plt.sca(ax4)\n",
    "plt.title('Share (%) of women and men in 1st and 3rd class\\n', fontsize = 15)\n",
    "xline = np.arange(0, 4, 1)\n",
    "\n",
    "ax4.plot(xline, M1, color='#55AA5F', linewidth = 2)\n",
    "ax4.plot(xline, F1, color='#AA55A0', linewidth = 2)\n",
    "ax4.plot(xline, M3, color='#55AA5F', linewidth = 2, linestyle='-.')\n",
    "ax4.plot(xline, F3, color='#AA55A0', linewidth = 2, linestyle='-.' )\n",
    "\n",
    "ax4.text(0.1, 16.3, '1st Women', fontsize = 11, color='#AA55A0', rotation=25)\n",
    "ax4.text(0.1, 4, '1st Men', fontsize = 11, color='#55AA5F', rotation=25)\n",
    "ax4.text(0.1, 55, '3rd Women', fontsize = 11, color='#AA55A0', rotation=-33)\n",
    "ax4.text(0.1, 73.5, '3rd Men', fontsize = 11, color='#55AA5F', rotation=-31)\n",
    "\n",
    "plt.xlabel('\\n Age Groups',  fontsize = 13)\n",
    "\n",
    "plt.xticks(X2, labels, fontsize = 12)\n",
    "plt.yticks(fontsize = 12)\n",
    "\n",
    "plt.grid(b=True, which='both', axis='both', color='lightgrey', linestyle='--', linewidth=0.5)"
   ]
  },
  {
   "cell_type": "markdown",
   "metadata": {},
   "source": [
    "We see that people in more expensive classes are on average older and the share of people in 1st class goes up with age. So the reason why survival rate went up for older women is actually linked to the fact that they are mainly in 1st class. For men it should be the same but it looks like women and children first policy's effect comes before the effect of classes. It can make sense as the advantage of being in best classes is linked to the deck your cabin is in and that being in the best location only gives an advantage at the start of the incident (people going from their location to the rescue boats) but after that and thus for men, the physical abilities matters more.\n",
    "\n",
    "To see if that hypothesis makes sense, let's look at the effect of being in different decks on survival rate per gender. We expect that for women, being on higher decks leads to higher survival rates and for men the effect should also be positive but smaller."
   ]
  },
  {
   "cell_type": "code",
   "execution_count": null,
   "metadata": {},
   "outputs": [],
   "source": [
    "if 'Deck_0' not in dfcleanTrain.columns:\n",
    "    dfcleanTrain = pd.get_dummies(dfcleanTrain, columns=['Deck'])"
   ]
  },
  {
   "cell_type": "code",
   "execution_count": null,
   "metadata": {},
   "outputs": [],
   "source": [
    "dfdeck = dfcleanTrain.groupby(['Sex', 'Survived'], as_index = False).aggregate(Total = (\"Deck_0\", 'count'),\n",
    "                                                Deck_0 = (\"Deck_0\", 'sum'),Deck_1 = (\"Deck_1\", 'sum'),\n",
    "                                                Deck_2 = (\"Deck_2\", 'sum'),Deck_3 = (\"Deck_3\", 'sum'),\n",
    "                                                Deck_4 = ('Deck_4', 'sum'),Deck_5 = (\"Deck_5\", 'sum'),\n",
    "                                                Deck_6 = ('Deck_6', 'sum'),Deck_7 = (\"Deck_7\", 'sum'),\n",
    "                                                Deck_8 = ('Deck_8', 'sum'))\n",
    "                                                                             \n",
    "dfdeck"
   ]
  },
  {
   "cell_type": "markdown",
   "metadata": {},
   "source": [
    "Unfortunately we don't have enough data about the repartition in decks and most of our data is stored in deck 8 which is where we put all of our unknown data. \n",
    "But according to the website below, we know that upper decks were attributed to 1st class and lower decks to other classes. And unless there was a \"rich people first policy\", the only reason to have more chances to survive in 1st class has to be the cabin location.\n",
    "\n",
    "https://www.encyclopedia-titanica.org/cabins.html "
   ]
  },
  {
   "cell_type": "markdown",
   "metadata": {},
   "source": [
    "Let's look at the effect of group size on survival rate. We will also check if the variable explains survival rate better if we separate in 'has a group' vs 'has no group'. Again we will separate by gender or else the men variable will drop survival rates of some category where men are the majority. For example, most of the Group = 0, people who travel alone group are men and we may think that travelling alone is a huge disadvantage but it may also be because people travelling alone are men so they are subject to the women and children first policy. Or maybe men are only at a disadvantage because they are mainly alone but this hypothesis doesn't hold as the survival rate for men that are not alone is way below the one of women in the same case."
   ]
  },
  {
   "cell_type": "code",
   "execution_count": null,
   "metadata": {},
   "outputs": [],
   "source": [
    "#Let's create groups because we don't have enough data for so many different group sizes.\n",
    "\n",
    "labelsGroup = ['Alone', '1', '2', '3', '4+']\n",
    "\n",
    "if 'GroupSize' not in dfcleanTrain.columns:\n",
    "    dfcleanTrain.insert(12, 'GroupSize', pd.cut(dfcleanTrain['Group'], bins=[-1, 0, 1, 2, 3, 100],\n",
    "                                                labels = labelsGroup, right=True))\n",
    "    \n",
    "labelsGroup2 = ['Alone', 'not Alone']\n",
    "\n",
    "if 'GroupSize2' not in dfcleanTrain.columns:\n",
    "    dfcleanTrain.insert(12, 'GroupSize2', pd.cut(dfcleanTrain['Group'], bins=[-1, 0, 100],\n",
    "                                                labels = labelsGroup2, right=True))"
   ]
  },
  {
   "cell_type": "code",
   "execution_count": null,
   "metadata": {},
   "outputs": [],
   "source": [
    "dfgroup = dfcleanTrain.groupby(['Pclass','GroupSize'], as_index = False).aggregate(Total = (\"Survived\", 'count'),\n",
    "                                                Survivors = (\"Survived\", 'sum'))\n",
    "\n",
    "dfgroup = dfcleanTrain.groupby(['Sex','GroupSize'], as_index = False).aggregate(Total = (\"Survived\", 'count'),\n",
    "                                                Survivors = (\"Survived\", 'sum'))\n",
    "\n",
    "dfgroup.insert(3, '% Surv', (dfgroup.Survivors/dfgroup.Total * 100).round(2))\n",
    "\n",
    "with pd.option_context('display.max_rows', None):\n",
    "  display(dfgroup)"
   ]
  },
  {
   "cell_type": "code",
   "execution_count": null,
   "metadata": {},
   "outputs": [],
   "source": [
    "GF = dfgroup.loc[(dfgroup.Sex == 'female'), \"% Surv\"]\n",
    "GM = dfgroup.loc[(dfgroup.Sex == 'male'), \"% Surv\"]"
   ]
  },
  {
   "cell_type": "code",
   "execution_count": null,
   "metadata": {},
   "outputs": [],
   "source": [
    "fig3, ax5 = plt.subplots(figsize=(7,5), dpi = 80)\n",
    "\n",
    "xlineG = np.arange(0, 5, 1)\n",
    "ax5.plot(xlineG, GM, color='#55AA5F', linewidth = 2,  marker='o')\n",
    "ax5.plot(xlineG, GF, color='#AA55A0', linewidth = 2, marker='o')\n",
    "plt.title('Survival rate (%) per gender and group size\\n', fontsize = 15)\n",
    "\n",
    "XG = np.arange(5)\n",
    "\n",
    "plt.xticks(XG, labelsGroup, fontsize = 13)\n",
    "plt.yticks(np.arange(0,110, 10), fontsize=13, rotation=0)\n",
    "ax5.tick_params(bottom = False)\n",
    "\n",
    "ax5.legend(labels = ['Men','Women'], loc = 'upper left', fontsize = 11)\n",
    "plt.grid(b=True, which='both', axis='both', color='lightgrey', linestyle='--', linewidth=0.5)\n",
    "\n",
    "plt.xlabel('\\nGroup Size',  fontsize = 13)\n",
    "\n",
    "plt.show()"
   ]
  },
  {
   "cell_type": "markdown",
   "metadata": {},
   "source": [
    "Being alone is certainly not the best case scenario and it seems that having groups bigger than 3 leads to lower survival rates. We also know from our correlation matrix that there is a weak negative relationship between group size and age, and between group size and sex. It means that bigger groups are more often made up of women and younger persons."
   ]
  },
  {
   "cell_type": "code",
   "execution_count": null,
   "metadata": {
    "scrolled": true
   },
   "outputs": [],
   "source": [
    "dfemb = dfcleanTrain.groupby(['Sex','Embarked'], as_index = False).aggregate(Total = (\"Survived\", 'count'),\n",
    "                                                Survivors = (\"Survived\", 'sum'),\n",
    "                                                 AvgFare = (\"FarePerCap\", 'mean') )\n",
    "\n",
    "dfemb.insert(4, '% Surv', (dfemb.Survivors/dfemb.Total * 100).round(2))\n",
    "\n",
    "dfemb"
   ]
  },
  {
   "cell_type": "markdown",
   "metadata": {},
   "source": [
    "People from Cherbourg seem to have more chances to survive and if we look at our correlation matrix, we see that embarking from Cherbourd is correlated with being in upper classes and embarking from Queenstown is the opposite. We can also look at the average fare and see that people from Chersbourg are way richer. So the of port of embarkation certainly affect survival rate because of its correlation to the Pclass variable. "
   ]
  },
  {
   "cell_type": "markdown",
   "metadata": {},
   "source": [
    "We could look at many more variables and relationships but we have enough knowledge to build a predictive model in my opinion and this dataset is too famous for me to find new insights that we have never seen."
   ]
  },
  {
   "cell_type": "markdown",
   "metadata": {},
   "source": [
    "## 3. Prediction"
   ]
  },
  {
   "cell_type": "markdown",
   "metadata": {},
   "source": [
    "We will try multiple models and use GridSearch to try multiple parameter combinations"
   ]
  },
  {
   "cell_type": "markdown",
   "metadata": {},
   "source": [
    "#### Decision tree"
   ]
  },
  {
   "cell_type": "code",
   "execution_count": null,
   "metadata": {},
   "outputs": [],
   "source": [
    "from sklearn import tree\n",
    "from sklearn.model_selection import cross_val_score\n",
    "from sklearn.model_selection import GridSearchCV\n",
    "from sklearn.tree import DecisionTreeClassifier\n",
    "from sklearn.feature_selection import RFE"
   ]
  },
  {
   "cell_type": "code",
   "execution_count": null,
   "metadata": {},
   "outputs": [],
   "source": [
    "dfcleanTrain2.columns"
   ]
  },
  {
   "cell_type": "code",
   "execution_count": null,
   "metadata": {},
   "outputs": [],
   "source": [
    "X = dfcleanTrain2.drop(['Survived', 'Name',\n",
    "                        'Ticket',\n",
    "                        'PassengerId'], axis = 1)\n",
    "y = dfcleanTrain2[\"Survived\"]"
   ]
  },
  {
   "cell_type": "code",
   "execution_count": null,
   "metadata": {},
   "outputs": [],
   "source": [
    "rfe_selector = RFE(estimator=DecisionTreeClassifier(),n_features_to_select = 5, step = 1)\n",
    "rfe_selector.fit(X, y)\n",
    "X.columns[rfe_selector.get_support()]"
   ]
  },
  {
   "cell_type": "markdown",
   "metadata": {},
   "source": [
    "It looks like those 5 variables are the best to predict our outcome it makes sense after the analysis. The suprising part is that the family variable is better than group. The only difference between the two were the fact the family takes only family into account but group looks at people who bought the ticket together."
   ]
  },
  {
   "cell_type": "code",
   "execution_count": null,
   "metadata": {
    "scrolled": true
   },
   "outputs": [],
   "source": [
    "X = dfcleanTrain2[['Pclass', 'AgeRange', 'FarePerCap', 'Embarked', 'Title', 'Sex', 'Alone']]\n",
    "\n",
    "clf = GridSearchCV(DecisionTreeClassifier(random_state=0), {\n",
    "    \"criterion\": ['gini', 'entropy'],\n",
    "    \"splitter\": ['best', 'random'],\n",
    "    \"max_depth\": range(5, 10)},\n",
    "                   cv = 5, return_train_score = False)\n",
    "\n",
    "clf.fit(X, y)\n",
    "clf.cv_results_\n",
    "\n",
    "dftree = pd.DataFrame(clf.cv_results_).head(5)\n",
    "dftree[[\"param_criterion\",\"param_max_depth\",\n",
    "        \"param_splitter\",\"mean_test_score\"]].sort_values(by=['mean_test_score'], ascending=False)"
   ]
  },
  {
   "cell_type": "markdown",
   "metadata": {},
   "source": [
    "#### Linear regression"
   ]
  },
  {
   "cell_type": "code",
   "execution_count": null,
   "metadata": {},
   "outputs": [],
   "source": [
    "from sklearn.linear_model import LogisticRegression\n",
    "\n",
    "rfe_selector = RFE(estimator=LogisticRegression(),n_features_to_select = 8, step = 1)\n",
    "rfe_selector.fit(X, y)\n",
    "X.columns[rfe_selector.get_support()]"
   ]
  },
  {
   "cell_type": "code",
   "execution_count": null,
   "metadata": {
    "scrolled": true
   },
   "outputs": [],
   "source": [
    "X = dfcleanTrain2[['Pclass', 'AgeRange', 'FarePerCap', 'Embarked', 'Title', 'Sex', 'Alone']]\n",
    "\n",
    "clf2 = GridSearchCV(LogisticRegression(solver='liblinear', multi_class = 'auto'), {\n",
    "    \"C\": range(5, 15),\n",
    "    \"fit_intercept\": [True, False],\n",
    "    \"penalty\": ['l1', 'l2']},\n",
    "                   cv = 5, return_train_score = False)\n",
    "\n",
    "clf2.fit(X, y)\n",
    "clf2.cv_results_\n",
    "\n",
    "dflog = pd.DataFrame(clf2.cv_results_).head(5)\n",
    "\n",
    "dflog[[\"param_C\", \"param_fit_intercept\", 'param_penalty'\n",
    "       , \"mean_test_score\"]].sort_values(by=['mean_test_score'], ascending=False)"
   ]
  },
  {
   "cell_type": "markdown",
   "metadata": {},
   "source": [
    "#### Neural Network"
   ]
  },
  {
   "cell_type": "code",
   "execution_count": null,
   "metadata": {},
   "outputs": [],
   "source": [
    "from sklearn.neural_network import MLPClassifier\n",
    "\n",
    "rfe_selector = RFE(estimator=MLPClassifier(),n_features_to_select = 8, step = 1)\n",
    "rfe_selector.fit(X, y)\n",
    "X.columns[rfe_selector.get_support()]"
   ]
  },
  {
   "cell_type": "code",
   "execution_count": null,
   "metadata": {
    "scrolled": true
   },
   "outputs": [],
   "source": [
    "X = dfcleanTrain2[['Pclass', 'AgeRange', 'FarePerCap', 'Embarked', 'Title', 'Sex', 'Alone']]\n",
    "\n",
    "clf3 = GridSearchCV(MLPClassifier(random_state=0, max_iter = 500), {\n",
    "    \"hidden_layer_sizes\": [(50,50,50), (50,100,50)],\n",
    "    'alpha': [0.0001, 0.05],\n",
    "    'activation': ['tanh'],\n",
    "    \"learning_rate\" : ['constant', 'adaptive'],\n",
    "    \"solver\": ['sgd', 'adam']},\n",
    "                   cv = 5, return_train_score = False)\n",
    "\n",
    "clf3.fit(X, y)\n",
    "clf3.cv_results_\n",
    "\n",
    "dfNN = pd.DataFrame(clf3.cv_results_).head(5)\n",
    "\n",
    "dfNN[[\"param_hidden_layer_sizes\", \"param_learning_rate\", 'param_activation'\n",
    "       ,'param_alpha','param_solver', \"mean_test_score\"]].sort_values(by=['mean_test_score'], ascending=False)"
   ]
  },
  {
   "cell_type": "markdown",
   "metadata": {},
   "source": [
    "#### Random Forest"
   ]
  },
  {
   "cell_type": "code",
   "execution_count": null,
   "metadata": {},
   "outputs": [],
   "source": [
    "from sklearn.ensemble import RandomForestClassifier\n",
    "\n",
    "rfe_selector = RFE(estimator=RandomForestClassifier(),n_features_to_select = 6, step = 1)\n",
    "rfe_selector.fit(X, y)\n",
    "X.columns[rfe_selector.get_support()]"
   ]
  },
  {
   "cell_type": "code",
   "execution_count": null,
   "metadata": {
    "scrolled": false
   },
   "outputs": [],
   "source": [
    "X = dfcleanTrain2[['Pclass', 'AgeRange', 'Fare', 'Embarked', 'Title', 'Sex', 'Alone', 'Deck']]\n",
    "\n",
    "clf4 = GridSearchCV(RandomForestClassifier(random_state=0), {\n",
    "    \"criterion\": ['gini', 'entropy'],\n",
    "    'n_estimators': [200, 500],\n",
    "    'max_features': ['auto', 'sqrt', 'log2'],\n",
    "    \"max_depth\": [5,10]},\n",
    "                   cv = 5, return_train_score = False)\n",
    "\n",
    "clf4.fit(X, y)\n",
    "clf4.cv_results_\n",
    "\n",
    "dfRF = pd.DataFrame(clf4.cv_results_).head(5)\n",
    "\n",
    "dfRF[[\"param_criterion\", \"param_n_estimators\", 'param_max_features',\n",
    "       'param_max_depth', \"mean_test_score\"]].sort_values(by=['mean_test_score'], ascending=False)"
   ]
  },
  {
   "cell_type": "markdown",
   "metadata": {},
   "source": [
    "#### SVC"
   ]
  },
  {
   "cell_type": "code",
   "execution_count": null,
   "metadata": {},
   "outputs": [],
   "source": [
    "from sklearn.svm import SVC\n",
    "\n",
    "rfe_selector = RFE(estimator=SVC(),n_features_to_select = 7, step = 1)\n",
    "rfe_selector.fit(X, y)\n",
    "X.columns[rfe_selector.get_support()]"
   ]
  },
  {
   "cell_type": "code",
   "execution_count": null,
   "metadata": {},
   "outputs": [],
   "source": [
    "X = dfcleanTrain2[['Pclass', 'AgeRange', 'FarePerCap', 'Embarked', 'Title', 'Sex', 'Alone']]\n",
    "\n",
    "clf5 = GridSearchCV(SVC(probability=True, kernel = 'linear' ),{\n",
    "    \"gamma\": ['scale', 'auto']},\n",
    "                   cv = 5, return_train_score = False)\n",
    "\n",
    "clf5.fit(X, y)\n",
    "clf5.cv_results_\n",
    "\n",
    "dflog = pd.DataFrame(clf5.cv_results_).head(5)\n",
    "\n",
    "dflog[['param_gamma'\n",
    "       , \"mean_test_score\"]].sort_values(by=['mean_test_score'], ascending=False)"
   ]
  },
  {
   "cell_type": "markdown",
   "metadata": {},
   "source": [
    "#### Let's predict with our best model"
   ]
  },
  {
   "cell_type": "markdown",
   "metadata": {},
   "source": [
    "We create our best model with the best parameters"
   ]
  },
  {
   "cell_type": "code",
   "execution_count": null,
   "metadata": {},
   "outputs": [],
   "source": [
    "#dfcleanTest['Sex'].replace(['male','female'],[0,1],inplace=True)"
   ]
  },
  {
   "cell_type": "code",
   "execution_count": null,
   "metadata": {},
   "outputs": [],
   "source": [
    "bestmodel = DecisionTreeClassifier(random_state=0, criterion = 'gini',\n",
    "                                   splitter = 'best', max_depth = 5)\n",
    "\n",
    "cross_val_score(bestmodel, X, y, cv=5).mean().round(4)"
   ]
  },
  {
   "cell_type": "code",
   "execution_count": null,
   "metadata": {},
   "outputs": [],
   "source": [
    "bestmodel2 = RandomForestClassifier(random_state=0, criterion = 'gini', n_estimators= 500,\n",
    "    max_features = 'auto', max_depth = 5)\n",
    "\n",
    "cross_val_score(bestmodel2, X, y, cv=5).mean().round(4)"
   ]
  },
  {
   "cell_type": "code",
   "execution_count": null,
   "metadata": {},
   "outputs": [],
   "source": [
    "bestmodel2.fit(X, y)"
   ]
  },
  {
   "cell_type": "code",
   "execution_count": null,
   "metadata": {},
   "outputs": [],
   "source": [
    "Xpred = dfcleanTest[['Pclass', 'AgeRange', 'FarePerCap', 'Embarked', 'Title', 'Sex', 'Alone']]\n",
    "ypred = bestmodel2.predict(Xpred)"
   ]
  },
  {
   "cell_type": "code",
   "execution_count": null,
   "metadata": {},
   "outputs": [],
   "source": [
    "#pd.set_option(\"display.max_rows\", None)\n",
    "#Xpred"
   ]
  },
  {
   "cell_type": "code",
   "execution_count": null,
   "metadata": {},
   "outputs": [],
   "source": [
    "#np.where(np.isnan(Xpred))"
   ]
  },
  {
   "cell_type": "markdown",
   "metadata": {},
   "source": [
    "Here we add the values we predicted for the survived variable"
   ]
  },
  {
   "cell_type": "code",
   "execution_count": null,
   "metadata": {},
   "outputs": [],
   "source": [
    "dfcleanTest = dfcleanTest.drop('Survived', 1)\n",
    "\n",
    "dfcleanTest['Survived'] = ypred"
   ]
  },
  {
   "cell_type": "code",
   "execution_count": null,
   "metadata": {},
   "outputs": [],
   "source": [
    "Final = dfcleanTest[['PassengerId','Survived']]"
   ]
  },
  {
   "cell_type": "code",
   "execution_count": null,
   "metadata": {},
   "outputs": [],
   "source": [
    "Final['Survived'] = Final['Survived'].astype(int)\n",
    "Final.dtypes"
   ]
  },
  {
   "cell_type": "code",
   "execution_count": null,
   "metadata": {
    "scrolled": true
   },
   "outputs": [],
   "source": []
  },
  {
   "cell_type": "markdown",
   "metadata": {},
   "source": [
    "We export it in a CSV to upload the results on Kaggle and get a score"
   ]
  },
  {
   "cell_type": "code",
   "execution_count": null,
   "metadata": {},
   "outputs": [],
   "source": [
    "Final.to_csv('C:/Users/sarac/Desktop/Projects/KagglePrivate/Titanic_Data/titanic/Final4.csv', index=False)"
   ]
  },
  {
   "cell_type": "markdown",
   "metadata": {},
   "source": [
    "I got a score of 0.79425 (ranked 850th, top 1,69%) with this model on Kaggle. I could try more models and change some of the data but it is pretty good. The goal of this exercise is to train myself and not to get the best score, in a real scenario you don't get to resubmit your work multiple times so being able to get a good model after a good analysis is key.\n",
    "\n",
    "Thinking back about the way I did it, maybe the webscraping of ages may be considered as cheating as I used external data and people getting a score of 1 find the answers on the web and create a perfect submission file. Nonetheless I wanted to add a webscraping part to train myself as it can be really useful in some cases to gather data."
   ]
  }
 ],
 "metadata": {
  "kernelspec": {
   "display_name": "Python 3",
   "language": "python",
   "name": "python3"
  },
  "language_info": {
   "codemirror_mode": {
    "name": "ipython",
    "version": 3
   },
   "file_extension": ".py",
   "mimetype": "text/x-python",
   "name": "python",
   "nbconvert_exporter": "python",
   "pygments_lexer": "ipython3",
   "version": "3.8.5"
  }
 },
 "nbformat": 4,
 "nbformat_minor": 4
}
